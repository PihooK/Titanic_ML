{
  "metadata": {
    "kernelspec": {
      "language": "python",
      "display_name": "Python 3",
      "name": "python3"
    },
    "language_info": {
      "name": "python",
      "version": "3.10.13",
      "mimetype": "text/x-python",
      "codemirror_mode": {
        "name": "ipython",
        "version": 3
      },
      "pygments_lexer": "ipython3",
      "nbconvert_exporter": "python",
      "file_extension": ".py"
    },
    "kaggle": {
      "accelerator": "none",
      "dataSources": [
        {
          "sourceId": 3136,
          "databundleVersionId": 26502,
          "sourceType": "competition"
        }
      ],
      "dockerImageVersionId": 30746,
      "isInternetEnabled": false,
      "language": "python",
      "sourceType": "notebook",
      "isGpuEnabled": false
    },
    "colab": {
      "name": "21BCE5688_Pihoo_Kumar",
      "provenance": []
    }
  },
  "nbformat_minor": 0,
  "nbformat": 4,
  "cells": [
    {
      "source": [
        "\n",
        "# IMPORTANT: RUN THIS CELL IN ORDER TO IMPORT YOUR KAGGLE DATA SOURCES\n",
        "# TO THE CORRECT LOCATION (/kaggle/input) IN YOUR NOTEBOOK,\n",
        "# THEN FEEL FREE TO DELETE THIS CELL.\n",
        "# NOTE: THIS NOTEBOOK ENVIRONMENT DIFFERS FROM KAGGLE'S PYTHON\n",
        "# ENVIRONMENT SO THERE MAY BE MISSING LIBRARIES USED BY YOUR\n",
        "# NOTEBOOK.\n",
        "\n",
        "import os\n",
        "import sys\n",
        "from tempfile import NamedTemporaryFile\n",
        "from urllib.request import urlopen\n",
        "from urllib.parse import unquote, urlparse\n",
        "from urllib.error import HTTPError\n",
        "from zipfile import ZipFile\n",
        "import tarfile\n",
        "import shutil\n",
        "\n",
        "CHUNK_SIZE = 40960\n",
        "DATA_SOURCE_MAPPING = 'titanic:https%3A%2F%2Fstorage.googleapis.com%2Fkaggle-competitions-data%2Fkaggle-v2%2F3136%2F26502%2Fbundle%2Farchive.zip%3FX-Goog-Algorithm%3DGOOG4-RSA-SHA256%26X-Goog-Credential%3Dgcp-kaggle-com%2540kaggle-161607.iam.gserviceaccount.com%252F20240810%252Fauto%252Fstorage%252Fgoog4_request%26X-Goog-Date%3D20240810T160828Z%26X-Goog-Expires%3D259200%26X-Goog-SignedHeaders%3Dhost%26X-Goog-Signature%3D657cc646641e5118cfdfd8dbaa3369f3b3028bfd31199b6a1eddc3ee02989db80e7a6b563f32d53fcc7ddd4c82a163374e75d7bab7cb3f2d3d01754f226e36522713a438e24c37127d3bc5f249b644512bdabde7a5882ec691a48b5bd68e36364f5b4df0f14d84d7c9f1a97b0829f05cdf2a606422223a3808078af9c4db86fc437c1e2d8a6f36532035069cc58151d53e9de8f42db9853d94086aac741355f203398dfd50db8d45fdb5d3a191a9799d7edbd570040431e3993cffa6f77699604b3bad045e45581ce596d97e0202f811596411c817103eb78582b2ab300c1196f35723dd94addd175336b33137b59bea756c2bcb09cea6301054b76977444e38'\n",
        "\n",
        "KAGGLE_INPUT_PATH='/kaggle/input'\n",
        "KAGGLE_WORKING_PATH='/kaggle/working'\n",
        "KAGGLE_SYMLINK='kaggle'\n",
        "\n",
        "!umount /kaggle/input/ 2> /dev/null\n",
        "shutil.rmtree('/kaggle/input', ignore_errors=True)\n",
        "os.makedirs(KAGGLE_INPUT_PATH, 0o777, exist_ok=True)\n",
        "os.makedirs(KAGGLE_WORKING_PATH, 0o777, exist_ok=True)\n",
        "\n",
        "try:\n",
        "  os.symlink(KAGGLE_INPUT_PATH, os.path.join(\"..\", 'input'), target_is_directory=True)\n",
        "except FileExistsError:\n",
        "  pass\n",
        "try:\n",
        "  os.symlink(KAGGLE_WORKING_PATH, os.path.join(\"..\", 'working'), target_is_directory=True)\n",
        "except FileExistsError:\n",
        "  pass\n",
        "\n",
        "for data_source_mapping in DATA_SOURCE_MAPPING.split(','):\n",
        "    directory, download_url_encoded = data_source_mapping.split(':')\n",
        "    download_url = unquote(download_url_encoded)\n",
        "    filename = urlparse(download_url).path\n",
        "    destination_path = os.path.join(KAGGLE_INPUT_PATH, directory)\n",
        "    try:\n",
        "        with urlopen(download_url) as fileres, NamedTemporaryFile() as tfile:\n",
        "            total_length = fileres.headers['content-length']\n",
        "            print(f'Downloading {directory}, {total_length} bytes compressed')\n",
        "            dl = 0\n",
        "            data = fileres.read(CHUNK_SIZE)\n",
        "            while len(data) > 0:\n",
        "                dl += len(data)\n",
        "                tfile.write(data)\n",
        "                done = int(50 * dl / int(total_length))\n",
        "                sys.stdout.write(f\"\\r[{'=' * done}{' ' * (50-done)}] {dl} bytes downloaded\")\n",
        "                sys.stdout.flush()\n",
        "                data = fileres.read(CHUNK_SIZE)\n",
        "            if filename.endswith('.zip'):\n",
        "              with ZipFile(tfile) as zfile:\n",
        "                zfile.extractall(destination_path)\n",
        "            else:\n",
        "              with tarfile.open(tfile.name) as tarfile:\n",
        "                tarfile.extractall(destination_path)\n",
        "            print(f'\\nDownloaded and uncompressed: {directory}')\n",
        "    except HTTPError as e:\n",
        "        print(f'Failed to load (likely expired) {download_url} to path {destination_path}')\n",
        "        continue\n",
        "    except OSError as e:\n",
        "        print(f'Failed to load {download_url} to path {destination_path}')\n",
        "        continue\n",
        "\n",
        "print('Data source import complete.')\n"
      ],
      "metadata": {
        "id": "7FS1GiOfDHHu"
      },
      "cell_type": "code",
      "outputs": [],
      "execution_count": null
    },
    {
      "cell_type": "code",
      "source": [
        "# This Python 3 environment comes with many helpful analytics libraries installed\n",
        "# It is defined by the kaggle/python Docker image: https://github.com/kaggle/docker-python\n",
        "# For example, here's several helpful packages to load\n",
        "\n",
        "import numpy as np # linear algebra\n",
        "import pandas as pd # data processing, CSV file I/O (e.g. pd.read_csv)\n",
        "\n",
        "# Input data files are available in the read-only \"../input/\" directory\n",
        "# For example, running this (by clicking run or pressing Shift+Enter) will list all files under the input directory\n",
        "\n",
        "import os\n",
        "for dirname, _, filenames in os.walk('/kaggle/input'):\n",
        "    for filename in filenames:\n",
        "        print(os.path.join(dirname, filename))\n",
        "\n",
        "# You can write up to 20GB to the current directory (/kaggle/working/) that gets preserved as output when you create a version using \"Save & Run All\"\n",
        "# You can also write temporary files to /kaggle/temp/, but they won't be saved outside of the current session"
      ],
      "metadata": {
        "_uuid": "8f2839f25d086af736a60e9eeb907d3b93b6e0e5",
        "_cell_guid": "b1076dfc-b9ad-4769-8c92-a6c4dae69d19",
        "execution": {
          "iopub.status.busy": "2024-08-03T07:33:20.493287Z",
          "iopub.execute_input": "2024-08-03T07:33:20.494034Z",
          "iopub.status.idle": "2024-08-03T07:33:21.466185Z",
          "shell.execute_reply.started": "2024-08-03T07:33:20.493997Z",
          "shell.execute_reply": "2024-08-03T07:33:21.464994Z"
        },
        "trusted": true,
        "id": "Ze4QyF_zDHHw"
      },
      "execution_count": null,
      "outputs": []
    },
    {
      "cell_type": "code",
      "source": [
        "train_data = pd.read_csv(\"/kaggle/input/titanic/train.csv\")\n",
        "train_data.head()"
      ],
      "metadata": {
        "execution": {
          "iopub.status.busy": "2024-08-03T07:33:35.098683Z",
          "iopub.execute_input": "2024-08-03T07:33:35.099835Z",
          "iopub.status.idle": "2024-08-03T07:33:35.148889Z",
          "shell.execute_reply.started": "2024-08-03T07:33:35.099792Z",
          "shell.execute_reply": "2024-08-03T07:33:35.147691Z"
        },
        "trusted": true,
        "id": "2k1h8GTODHHx"
      },
      "execution_count": null,
      "outputs": []
    },
    {
      "cell_type": "code",
      "source": [
        "test_data = pd.read_csv(\"/kaggle/input/titanic/test.csv\")\n",
        "test_data.head()"
      ],
      "metadata": {
        "execution": {
          "iopub.status.busy": "2024-08-03T07:34:25.354381Z",
          "iopub.execute_input": "2024-08-03T07:34:25.35477Z",
          "iopub.status.idle": "2024-08-03T07:34:25.374598Z",
          "shell.execute_reply.started": "2024-08-03T07:34:25.35474Z",
          "shell.execute_reply": "2024-08-03T07:34:25.373637Z"
        },
        "trusted": true,
        "id": "HPOPfhDrDHHx"
      },
      "execution_count": null,
      "outputs": []
    },
    {
      "cell_type": "code",
      "source": [
        "women = train_data.loc[train_data.Sex == 'female'][\"Survived\"]\n",
        "rate_women = sum(women)/len(women)\n",
        "\n",
        "print(\"% of women who survived:\", rate_women)"
      ],
      "metadata": {
        "execution": {
          "iopub.status.busy": "2024-08-03T07:35:32.054813Z",
          "iopub.execute_input": "2024-08-03T07:35:32.055805Z",
          "iopub.status.idle": "2024-08-03T07:35:32.066291Z",
          "shell.execute_reply.started": "2024-08-03T07:35:32.055765Z",
          "shell.execute_reply": "2024-08-03T07:35:32.065335Z"
        },
        "trusted": true,
        "id": "CZ-4PkdCDHHx"
      },
      "execution_count": null,
      "outputs": []
    },
    {
      "cell_type": "code",
      "source": [
        "men = train_data.loc[train_data.Sex == 'male'][\"Survived\"]\n",
        "rate_men = sum(men)/len(men)\n",
        "\n",
        "print(\"% of men who survived:\", rate_men)"
      ],
      "metadata": {
        "execution": {
          "iopub.status.busy": "2024-08-03T07:35:55.503665Z",
          "iopub.execute_input": "2024-08-03T07:35:55.504379Z",
          "iopub.status.idle": "2024-08-03T07:35:55.512346Z",
          "shell.execute_reply.started": "2024-08-03T07:35:55.504342Z",
          "shell.execute_reply": "2024-08-03T07:35:55.51109Z"
        },
        "trusted": true,
        "id": "RSiORFRGDHHy"
      },
      "execution_count": null,
      "outputs": []
    },
    {
      "cell_type": "code",
      "source": [
        "from sklearn.ensemble import RandomForestClassifier\n",
        "\n",
        "y = train_data[\"Survived\"]\n",
        "\n",
        "features = [\"Pclass\", \"Sex\", \"SibSp\", \"Parch\"]\n",
        "X = pd.get_dummies(train_data[features])\n",
        "X_test = pd.get_dummies(test_data[features])\n",
        "\n",
        "model = RandomForestClassifier(n_estimators=100, max_depth=5, random_state=1)\n",
        "model.fit(X, y)\n",
        "predictions = model.predict(X_test)\n",
        "\n",
        "output = pd.DataFrame({'PassengerId': test_data.PassengerId, 'Survived': predictions})\n",
        "output.to_csv('submission.csv', index=False)\n",
        "print(\"Your submission was successfully saved!\")"
      ],
      "metadata": {
        "execution": {
          "iopub.status.busy": "2024-08-03T07:36:26.081543Z",
          "iopub.execute_input": "2024-08-03T07:36:26.081908Z",
          "iopub.status.idle": "2024-08-03T07:36:27.175802Z",
          "shell.execute_reply.started": "2024-08-03T07:36:26.081875Z",
          "shell.execute_reply": "2024-08-03T07:36:27.174612Z"
        },
        "trusted": true,
        "id": "lsPYq-BaDHHy"
      },
      "execution_count": null,
      "outputs": []
    },
    {
      "cell_type": "code",
      "source": [
        "submission_data = pd.read_csv(\"submission.csv\")\n",
        "submission_data.head()"
      ],
      "metadata": {
        "execution": {
          "iopub.status.busy": "2024-08-03T07:45:56.500968Z",
          "iopub.execute_input": "2024-08-03T07:45:56.501362Z",
          "iopub.status.idle": "2024-08-03T07:45:56.513217Z",
          "shell.execute_reply.started": "2024-08-03T07:45:56.501331Z",
          "shell.execute_reply": "2024-08-03T07:45:56.512152Z"
        },
        "trusted": true,
        "id": "XyF9wL1eDHHy"
      },
      "execution_count": null,
      "outputs": []
    }
  ]
}